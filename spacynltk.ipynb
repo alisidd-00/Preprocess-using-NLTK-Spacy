{
  "cells": [
    {
      "cell_type": "code",
      "execution_count": null,
      "metadata": {
        "colab": {
          "base_uri": "https://localhost:8080/"
        },
        "id": "hTukEE7AXW6X",
        "outputId": "996f5338-01f3-458d-8bfe-0c0f8234bfb4"
      },
      "outputs": [
        {
          "output_type": "stream",
          "name": "stdout",
          "text": [
            "Requirement already satisfied: spacy in /usr/local/lib/python3.10/dist-packages (3.6.1)\n",
            "Requirement already satisfied: spacy-legacy<3.1.0,>=3.0.11 in /usr/local/lib/python3.10/dist-packages (from spacy) (3.0.12)\n",
            "Requirement already satisfied: spacy-loggers<2.0.0,>=1.0.0 in /usr/local/lib/python3.10/dist-packages (from spacy) (1.0.4)\n",
            "Requirement already satisfied: murmurhash<1.1.0,>=0.28.0 in /usr/local/lib/python3.10/dist-packages (from spacy) (1.0.9)\n",
            "Requirement already satisfied: cymem<2.1.0,>=2.0.2 in /usr/local/lib/python3.10/dist-packages (from spacy) (2.0.7)\n",
            "Requirement already satisfied: preshed<3.1.0,>=3.0.2 in /usr/local/lib/python3.10/dist-packages (from spacy) (3.0.8)\n",
            "Requirement already satisfied: thinc<8.2.0,>=8.1.8 in /usr/local/lib/python3.10/dist-packages (from spacy) (8.1.12)\n",
            "Requirement already satisfied: wasabi<1.2.0,>=0.9.1 in /usr/local/lib/python3.10/dist-packages (from spacy) (1.1.2)\n",
            "Requirement already satisfied: srsly<3.0.0,>=2.4.3 in /usr/local/lib/python3.10/dist-packages (from spacy) (2.4.7)\n",
            "Requirement already satisfied: catalogue<2.1.0,>=2.0.6 in /usr/local/lib/python3.10/dist-packages (from spacy) (2.0.9)\n",
            "Requirement already satisfied: typer<0.10.0,>=0.3.0 in /usr/local/lib/python3.10/dist-packages (from spacy) (0.9.0)\n",
            "Requirement already satisfied: pathy>=0.10.0 in /usr/local/lib/python3.10/dist-packages (from spacy) (0.10.2)\n",
            "Requirement already satisfied: smart-open<7.0.0,>=5.2.1 in /usr/local/lib/python3.10/dist-packages (from spacy) (6.4.0)\n",
            "Requirement already satisfied: tqdm<5.0.0,>=4.38.0 in /usr/local/lib/python3.10/dist-packages (from spacy) (4.66.1)\n",
            "Requirement already satisfied: numpy>=1.15.0 in /usr/local/lib/python3.10/dist-packages (from spacy) (1.23.5)\n",
            "Requirement already satisfied: requests<3.0.0,>=2.13.0 in /usr/local/lib/python3.10/dist-packages (from spacy) (2.31.0)\n",
            "Requirement already satisfied: pydantic!=1.8,!=1.8.1,<3.0.0,>=1.7.4 in /usr/local/lib/python3.10/dist-packages (from spacy) (1.10.12)\n",
            "Requirement already satisfied: jinja2 in /usr/local/lib/python3.10/dist-packages (from spacy) (3.1.2)\n",
            "Requirement already satisfied: setuptools in /usr/local/lib/python3.10/dist-packages (from spacy) (67.7.2)\n",
            "Requirement already satisfied: packaging>=20.0 in /usr/local/lib/python3.10/dist-packages (from spacy) (23.1)\n",
            "Requirement already satisfied: langcodes<4.0.0,>=3.2.0 in /usr/local/lib/python3.10/dist-packages (from spacy) (3.3.0)\n",
            "Requirement already satisfied: typing-extensions>=4.2.0 in /usr/local/lib/python3.10/dist-packages (from pydantic!=1.8,!=1.8.1,<3.0.0,>=1.7.4->spacy) (4.5.0)\n",
            "Requirement already satisfied: charset-normalizer<4,>=2 in /usr/local/lib/python3.10/dist-packages (from requests<3.0.0,>=2.13.0->spacy) (3.2.0)\n",
            "Requirement already satisfied: idna<4,>=2.5 in /usr/local/lib/python3.10/dist-packages (from requests<3.0.0,>=2.13.0->spacy) (3.4)\n",
            "Requirement already satisfied: urllib3<3,>=1.21.1 in /usr/local/lib/python3.10/dist-packages (from requests<3.0.0,>=2.13.0->spacy) (2.0.4)\n",
            "Requirement already satisfied: certifi>=2017.4.17 in /usr/local/lib/python3.10/dist-packages (from requests<3.0.0,>=2.13.0->spacy) (2023.7.22)\n",
            "Requirement already satisfied: blis<0.8.0,>=0.7.8 in /usr/local/lib/python3.10/dist-packages (from thinc<8.2.0,>=8.1.8->spacy) (0.7.10)\n",
            "Requirement already satisfied: confection<1.0.0,>=0.0.1 in /usr/local/lib/python3.10/dist-packages (from thinc<8.2.0,>=8.1.8->spacy) (0.1.2)\n",
            "Requirement already satisfied: click<9.0.0,>=7.1.1 in /usr/local/lib/python3.10/dist-packages (from typer<0.10.0,>=0.3.0->spacy) (8.1.7)\n",
            "Requirement already satisfied: MarkupSafe>=2.0 in /usr/local/lib/python3.10/dist-packages (from jinja2->spacy) (2.1.3)\n"
          ]
        }
      ],
      "source": [
        "!pip install spacy"
      ]
    },
    {
      "cell_type": "code",
      "execution_count": null,
      "metadata": {
        "colab": {
          "base_uri": "https://localhost:8080/"
        },
        "id": "0zquXHGTXokG",
        "outputId": "1f9b1526-750a-4d85-9e88-e7c4189dcfe7"
      },
      "outputs": [
        {
          "output_type": "stream",
          "name": "stdout",
          "text": [
            "2023-09-19 07:34:57.278482: W tensorflow/compiler/tf2tensorrt/utils/py_utils.cc:38] TF-TRT Warning: Could not find TensorRT\n",
            "Collecting en-core-web-sm==3.4.1\n",
            "  Downloading https://github.com/explosion/spacy-models/releases/download/en_core_web_sm-3.4.1/en_core_web_sm-3.4.1-py3-none-any.whl (12.8 MB)\n",
            "\u001b[2K     \u001b[90m━━━━━━━━━━━━━━━━━━━━━━━━━━━━━━━━━━━━━━━━\u001b[0m \u001b[32m12.8/12.8 MB\u001b[0m \u001b[31m44.9 MB/s\u001b[0m eta \u001b[36m0:00:00\u001b[0m\n",
            "\u001b[?25hRequirement already satisfied: spacy<3.5.0,>=3.4.0 in /usr/local/lib/python3.10/dist-packages (from en-core-web-sm==3.4.1) (3.4.4)\n",
            "Requirement already satisfied: spacy-legacy<3.1.0,>=3.0.10 in /usr/local/lib/python3.10/dist-packages (from spacy<3.5.0,>=3.4.0->en-core-web-sm==3.4.1) (3.0.12)\n",
            "Requirement already satisfied: spacy-loggers<2.0.0,>=1.0.0 in /usr/local/lib/python3.10/dist-packages (from spacy<3.5.0,>=3.4.0->en-core-web-sm==3.4.1) (1.0.4)\n",
            "Requirement already satisfied: murmurhash<1.1.0,>=0.28.0 in /usr/local/lib/python3.10/dist-packages (from spacy<3.5.0,>=3.4.0->en-core-web-sm==3.4.1) (1.0.9)\n",
            "Requirement already satisfied: cymem<2.1.0,>=2.0.2 in /usr/local/lib/python3.10/dist-packages (from spacy<3.5.0,>=3.4.0->en-core-web-sm==3.4.1) (2.0.7)\n",
            "Requirement already satisfied: preshed<3.1.0,>=3.0.2 in /usr/local/lib/python3.10/dist-packages (from spacy<3.5.0,>=3.4.0->en-core-web-sm==3.4.1) (3.0.8)\n",
            "Requirement already satisfied: thinc<8.2.0,>=8.1.0 in /usr/local/lib/python3.10/dist-packages (from spacy<3.5.0,>=3.4.0->en-core-web-sm==3.4.1) (8.1.12)\n",
            "Requirement already satisfied: wasabi<1.1.0,>=0.9.1 in /usr/local/lib/python3.10/dist-packages (from spacy<3.5.0,>=3.4.0->en-core-web-sm==3.4.1) (0.10.1)\n",
            "Requirement already satisfied: srsly<3.0.0,>=2.4.3 in /usr/local/lib/python3.10/dist-packages (from spacy<3.5.0,>=3.4.0->en-core-web-sm==3.4.1) (2.4.7)\n",
            "Requirement already satisfied: catalogue<2.1.0,>=2.0.6 in /usr/local/lib/python3.10/dist-packages (from spacy<3.5.0,>=3.4.0->en-core-web-sm==3.4.1) (2.0.9)\n",
            "Requirement already satisfied: typer<0.8.0,>=0.3.0 in /usr/local/lib/python3.10/dist-packages (from spacy<3.5.0,>=3.4.0->en-core-web-sm==3.4.1) (0.7.0)\n",
            "Requirement already satisfied: pathy>=0.3.5 in /usr/local/lib/python3.10/dist-packages (from spacy<3.5.0,>=3.4.0->en-core-web-sm==3.4.1) (0.10.2)\n",
            "Requirement already satisfied: smart-open<7.0.0,>=5.2.1 in /usr/local/lib/python3.10/dist-packages (from spacy<3.5.0,>=3.4.0->en-core-web-sm==3.4.1) (6.4.0)\n",
            "Requirement already satisfied: tqdm<5.0.0,>=4.38.0 in /usr/local/lib/python3.10/dist-packages (from spacy<3.5.0,>=3.4.0->en-core-web-sm==3.4.1) (4.64.1)\n",
            "Requirement already satisfied: numpy>=1.15.0 in /usr/local/lib/python3.10/dist-packages (from spacy<3.5.0,>=3.4.0->en-core-web-sm==3.4.1) (1.23.5)\n",
            "Requirement already satisfied: requests<3.0.0,>=2.13.0 in /usr/local/lib/python3.10/dist-packages (from spacy<3.5.0,>=3.4.0->en-core-web-sm==3.4.1) (2.31.0)\n",
            "Requirement already satisfied: pydantic!=1.8,!=1.8.1,<1.11.0,>=1.7.4 in /usr/local/lib/python3.10/dist-packages (from spacy<3.5.0,>=3.4.0->en-core-web-sm==3.4.1) (1.10.12)\n",
            "Requirement already satisfied: jinja2 in /usr/local/lib/python3.10/dist-packages (from spacy<3.5.0,>=3.4.0->en-core-web-sm==3.4.1) (3.1.2)\n",
            "Requirement already satisfied: setuptools in /usr/local/lib/python3.10/dist-packages (from spacy<3.5.0,>=3.4.0->en-core-web-sm==3.4.1) (67.7.2)\n",
            "Requirement already satisfied: packaging>=20.0 in /usr/local/lib/python3.10/dist-packages (from spacy<3.5.0,>=3.4.0->en-core-web-sm==3.4.1) (23.1)\n",
            "Requirement already satisfied: langcodes<4.0.0,>=3.2.0 in /usr/local/lib/python3.10/dist-packages (from spacy<3.5.0,>=3.4.0->en-core-web-sm==3.4.1) (3.3.0)\n",
            "Requirement already satisfied: typing-extensions>=4.2.0 in /usr/local/lib/python3.10/dist-packages (from pydantic!=1.8,!=1.8.1,<1.11.0,>=1.7.4->spacy<3.5.0,>=3.4.0->en-core-web-sm==3.4.1) (4.5.0)\n",
            "Requirement already satisfied: charset-normalizer<4,>=2 in /usr/local/lib/python3.10/dist-packages (from requests<3.0.0,>=2.13.0->spacy<3.5.0,>=3.4.0->en-core-web-sm==3.4.1) (3.2.0)\n",
            "Requirement already satisfied: idna<4,>=2.5 in /usr/local/lib/python3.10/dist-packages (from requests<3.0.0,>=2.13.0->spacy<3.5.0,>=3.4.0->en-core-web-sm==3.4.1) (3.4)\n",
            "Requirement already satisfied: urllib3<3,>=1.21.1 in /usr/local/lib/python3.10/dist-packages (from requests<3.0.0,>=2.13.0->spacy<3.5.0,>=3.4.0->en-core-web-sm==3.4.1) (2.0.4)\n",
            "Requirement already satisfied: certifi>=2017.4.17 in /usr/local/lib/python3.10/dist-packages (from requests<3.0.0,>=2.13.0->spacy<3.5.0,>=3.4.0->en-core-web-sm==3.4.1) (2023.7.22)\n",
            "Requirement already satisfied: blis<0.8.0,>=0.7.8 in /usr/local/lib/python3.10/dist-packages (from thinc<8.2.0,>=8.1.0->spacy<3.5.0,>=3.4.0->en-core-web-sm==3.4.1) (0.7.10)\n",
            "Requirement already satisfied: confection<1.0.0,>=0.0.1 in /usr/local/lib/python3.10/dist-packages (from thinc<8.2.0,>=8.1.0->spacy<3.5.0,>=3.4.0->en-core-web-sm==3.4.1) (0.1.2)\n",
            "Requirement already satisfied: click<9.0.0,>=7.1.1 in /usr/local/lib/python3.10/dist-packages (from typer<0.8.0,>=0.3.0->spacy<3.5.0,>=3.4.0->en-core-web-sm==3.4.1) (8.1.7)\n",
            "Requirement already satisfied: MarkupSafe>=2.0 in /usr/local/lib/python3.10/dist-packages (from jinja2->spacy<3.5.0,>=3.4.0->en-core-web-sm==3.4.1) (2.1.3)\n",
            "Installing collected packages: en-core-web-sm\n",
            "  Attempting uninstall: en-core-web-sm\n",
            "    Found existing installation: en-core-web-sm 3.6.0\n",
            "    Uninstalling en-core-web-sm-3.6.0:\n",
            "      Successfully uninstalled en-core-web-sm-3.6.0\n",
            "Successfully installed en-core-web-sm-3.4.1\n",
            "\u001b[38;5;2m✔ Download and installation successful\u001b[0m\n",
            "You can now load the package via spacy.load('en_core_web_sm')\n"
          ]
        }
      ],
      "source": [
        "!python -m spacy download en_core_web_sm"
      ]
    },
    {
      "cell_type": "code",
      "execution_count": null,
      "metadata": {
        "colab": {
          "base_uri": "https://localhost:8080/"
        },
        "id": "EnKdfPwohZSu",
        "outputId": "b58b6070-8519-4350-fc16-02e139333bc2"
      },
      "outputs": [
        {
          "output_type": "stream",
          "name": "stdout",
          "text": [
            "Requirement already satisfied: spacy-cleaner in /usr/local/lib/python3.10/dist-packages (3.1.3)\n",
            "Requirement already satisfied: spacy<3.5.0,>=3.4.1 in /usr/local/lib/python3.10/dist-packages (from spacy-cleaner) (3.4.4)\n",
            "Requirement already satisfied: spacy-lookups-data<1.1.0,>=1.0.3 in /usr/local/lib/python3.10/dist-packages (from spacy-cleaner) (1.0.5)\n",
            "Requirement already satisfied: tqdm<4.65.0,>=4.64.0 in /usr/local/lib/python3.10/dist-packages (from spacy-cleaner) (4.64.1)\n",
            "Requirement already satisfied: spacy-legacy<3.1.0,>=3.0.10 in /usr/local/lib/python3.10/dist-packages (from spacy<3.5.0,>=3.4.1->spacy-cleaner) (3.0.12)\n",
            "Requirement already satisfied: spacy-loggers<2.0.0,>=1.0.0 in /usr/local/lib/python3.10/dist-packages (from spacy<3.5.0,>=3.4.1->spacy-cleaner) (1.0.4)\n",
            "Requirement already satisfied: murmurhash<1.1.0,>=0.28.0 in /usr/local/lib/python3.10/dist-packages (from spacy<3.5.0,>=3.4.1->spacy-cleaner) (1.0.9)\n",
            "Requirement already satisfied: cymem<2.1.0,>=2.0.2 in /usr/local/lib/python3.10/dist-packages (from spacy<3.5.0,>=3.4.1->spacy-cleaner) (2.0.7)\n",
            "Requirement already satisfied: preshed<3.1.0,>=3.0.2 in /usr/local/lib/python3.10/dist-packages (from spacy<3.5.0,>=3.4.1->spacy-cleaner) (3.0.8)\n",
            "Requirement already satisfied: thinc<8.2.0,>=8.1.0 in /usr/local/lib/python3.10/dist-packages (from spacy<3.5.0,>=3.4.1->spacy-cleaner) (8.1.12)\n",
            "Requirement already satisfied: wasabi<1.1.0,>=0.9.1 in /usr/local/lib/python3.10/dist-packages (from spacy<3.5.0,>=3.4.1->spacy-cleaner) (0.10.1)\n",
            "Requirement already satisfied: srsly<3.0.0,>=2.4.3 in /usr/local/lib/python3.10/dist-packages (from spacy<3.5.0,>=3.4.1->spacy-cleaner) (2.4.7)\n",
            "Requirement already satisfied: catalogue<2.1.0,>=2.0.6 in /usr/local/lib/python3.10/dist-packages (from spacy<3.5.0,>=3.4.1->spacy-cleaner) (2.0.9)\n",
            "Requirement already satisfied: typer<0.8.0,>=0.3.0 in /usr/local/lib/python3.10/dist-packages (from spacy<3.5.0,>=3.4.1->spacy-cleaner) (0.7.0)\n",
            "Requirement already satisfied: pathy>=0.3.5 in /usr/local/lib/python3.10/dist-packages (from spacy<3.5.0,>=3.4.1->spacy-cleaner) (0.10.2)\n",
            "Requirement already satisfied: smart-open<7.0.0,>=5.2.1 in /usr/local/lib/python3.10/dist-packages (from spacy<3.5.0,>=3.4.1->spacy-cleaner) (6.4.0)\n",
            "Requirement already satisfied: numpy>=1.15.0 in /usr/local/lib/python3.10/dist-packages (from spacy<3.5.0,>=3.4.1->spacy-cleaner) (1.23.5)\n",
            "Requirement already satisfied: requests<3.0.0,>=2.13.0 in /usr/local/lib/python3.10/dist-packages (from spacy<3.5.0,>=3.4.1->spacy-cleaner) (2.31.0)\n",
            "Requirement already satisfied: pydantic!=1.8,!=1.8.1,<1.11.0,>=1.7.4 in /usr/local/lib/python3.10/dist-packages (from spacy<3.5.0,>=3.4.1->spacy-cleaner) (1.10.12)\n",
            "Requirement already satisfied: jinja2 in /usr/local/lib/python3.10/dist-packages (from spacy<3.5.0,>=3.4.1->spacy-cleaner) (3.1.2)\n",
            "Requirement already satisfied: setuptools in /usr/local/lib/python3.10/dist-packages (from spacy<3.5.0,>=3.4.1->spacy-cleaner) (67.7.2)\n",
            "Requirement already satisfied: packaging>=20.0 in /usr/local/lib/python3.10/dist-packages (from spacy<3.5.0,>=3.4.1->spacy-cleaner) (23.1)\n",
            "Requirement already satisfied: langcodes<4.0.0,>=3.2.0 in /usr/local/lib/python3.10/dist-packages (from spacy<3.5.0,>=3.4.1->spacy-cleaner) (3.3.0)\n",
            "Requirement already satisfied: typing-extensions>=4.2.0 in /usr/local/lib/python3.10/dist-packages (from pydantic!=1.8,!=1.8.1,<1.11.0,>=1.7.4->spacy<3.5.0,>=3.4.1->spacy-cleaner) (4.5.0)\n",
            "Requirement already satisfied: charset-normalizer<4,>=2 in /usr/local/lib/python3.10/dist-packages (from requests<3.0.0,>=2.13.0->spacy<3.5.0,>=3.4.1->spacy-cleaner) (3.2.0)\n",
            "Requirement already satisfied: idna<4,>=2.5 in /usr/local/lib/python3.10/dist-packages (from requests<3.0.0,>=2.13.0->spacy<3.5.0,>=3.4.1->spacy-cleaner) (3.4)\n",
            "Requirement already satisfied: urllib3<3,>=1.21.1 in /usr/local/lib/python3.10/dist-packages (from requests<3.0.0,>=2.13.0->spacy<3.5.0,>=3.4.1->spacy-cleaner) (2.0.4)\n",
            "Requirement already satisfied: certifi>=2017.4.17 in /usr/local/lib/python3.10/dist-packages (from requests<3.0.0,>=2.13.0->spacy<3.5.0,>=3.4.1->spacy-cleaner) (2023.7.22)\n",
            "Requirement already satisfied: blis<0.8.0,>=0.7.8 in /usr/local/lib/python3.10/dist-packages (from thinc<8.2.0,>=8.1.0->spacy<3.5.0,>=3.4.1->spacy-cleaner) (0.7.10)\n",
            "Requirement already satisfied: confection<1.0.0,>=0.0.1 in /usr/local/lib/python3.10/dist-packages (from thinc<8.2.0,>=8.1.0->spacy<3.5.0,>=3.4.1->spacy-cleaner) (0.1.2)\n",
            "Requirement already satisfied: click<9.0.0,>=7.1.1 in /usr/local/lib/python3.10/dist-packages (from typer<0.8.0,>=0.3.0->spacy<3.5.0,>=3.4.1->spacy-cleaner) (8.1.7)\n",
            "Requirement already satisfied: MarkupSafe>=2.0 in /usr/local/lib/python3.10/dist-packages (from jinja2->spacy<3.5.0,>=3.4.1->spacy-cleaner) (2.1.3)\n"
          ]
        }
      ],
      "source": [
        "!pip install spacy-cleaner"
      ]
    },
    {
      "cell_type": "markdown",
      "source": [
        "**USING SPACY**"
      ],
      "metadata": {
        "id": "45P6Dqm9Ixdq"
      }
    },
    {
      "cell_type": "code",
      "execution_count": null,
      "metadata": {
        "id": "vS2uPUerX04W"
      },
      "outputs": [],
      "source": [
        "import spacy as sp"
      ]
    },
    {
      "cell_type": "code",
      "execution_count": null,
      "metadata": {
        "id": "v00-S9LlYRtp"
      },
      "outputs": [],
      "source": [
        "nlp=sp.load('en_core_web_sm')"
      ]
    },
    {
      "cell_type": "code",
      "execution_count": null,
      "metadata": {
        "id": "bhBz1rrcao-M"
      },
      "outputs": [],
      "source": [
        "import pandas as pd"
      ]
    },
    {
      "cell_type": "code",
      "execution_count": null,
      "metadata": {
        "id": "M7B1eN4daiHJ"
      },
      "outputs": [],
      "source": [
        "file=pd.read_csv(\"/content/spam_hamm_dataset.csv\", encoding='latin1')"
      ]
    },
    {
      "cell_type": "code",
      "execution_count": null,
      "metadata": {
        "colab": {
          "base_uri": "https://localhost:8080/"
        },
        "id": "-CuPxgywavBQ",
        "outputId": "6c0aa1ce-b108-4dd0-ac15-bedbcce1c204"
      },
      "outputs": [
        {
          "output_type": "execute_result",
          "data": {
            "text/plain": [
              "(5171, 4)"
            ]
          },
          "metadata": {},
          "execution_count": 12
        }
      ],
      "source": [
        "file.shape"
      ]
    },
    {
      "cell_type": "code",
      "execution_count": null,
      "metadata": {
        "colab": {
          "base_uri": "https://localhost:8080/"
        },
        "id": "Y6i4Ifz-azvW",
        "outputId": "4ffbd930-967a-465e-a2c9-f2a66283da90"
      },
      "outputs": [
        {
          "output_type": "stream",
          "name": "stdout",
          "text": [
            "<class 'pandas.core.frame.DataFrame'>\n",
            "RangeIndex: 5171 entries, 0 to 5170\n",
            "Data columns (total 4 columns):\n",
            " #   Column      Non-Null Count  Dtype \n",
            "---  ------      --------------  ----- \n",
            " 0   Unnamed: 0  5171 non-null   int64 \n",
            " 1   label       5171 non-null   object\n",
            " 2   text        5171 non-null   object\n",
            " 3   label_num   5171 non-null   int64 \n",
            "dtypes: int64(2), object(2)\n",
            "memory usage: 161.7+ KB\n"
          ]
        }
      ],
      "source": [
        "file.info()"
      ]
    },
    {
      "cell_type": "code",
      "execution_count": null,
      "metadata": {
        "colab": {
          "base_uri": "https://localhost:8080/"
        },
        "id": "3RbJQAhUdKV_",
        "outputId": "310d2df7-7239-407c-c994-76fd82be7106"
      },
      "outputs": [
        {
          "output_type": "execute_result",
          "data": {
            "text/plain": [
              "Unnamed: 0    0\n",
              "label         0\n",
              "text          0\n",
              "label_num     0\n",
              "dtype: int64"
            ]
          },
          "metadata": {},
          "execution_count": 14
        }
      ],
      "source": [
        "file.isnull().sum()"
      ]
    },
    {
      "cell_type": "code",
      "execution_count": null,
      "metadata": {
        "id": "64pJC-HEdfDH"
      },
      "outputs": [],
      "source": [
        "file=file.drop(['label_num','Unnamed: 0'], axis=1)"
      ]
    },
    {
      "cell_type": "code",
      "source": [
        "file.head()"
      ],
      "metadata": {
        "colab": {
          "base_uri": "https://localhost:8080/",
          "height": 206
        },
        "id": "wUlgGQiLCaDq",
        "outputId": "054518a9-7390-4d83-e004-a635c2ed47b8"
      },
      "execution_count": null,
      "outputs": [
        {
          "output_type": "execute_result",
          "data": {
            "text/plain": [
              "  label                                               text\n",
              "0   ham  Subject: enron methanol ; meter # : 988291\\r\\n...\n",
              "1   ham  Subject: hpl nom for january 9 , 2001\\r\\n( see...\n",
              "2   ham  Subject: neon retreat\\r\\nho ho ho , we ' re ar...\n",
              "3  spam  Subject: photoshop , windows , office . cheap ...\n",
              "4   ham  Subject: re : indian springs\\r\\nthis deal is t..."
            ],
            "text/html": [
              "\n",
              "  <div id=\"df-7be0bc82-2f22-4101-860d-70a0ad5bddab\" class=\"colab-df-container\">\n",
              "    <div>\n",
              "<style scoped>\n",
              "    .dataframe tbody tr th:only-of-type {\n",
              "        vertical-align: middle;\n",
              "    }\n",
              "\n",
              "    .dataframe tbody tr th {\n",
              "        vertical-align: top;\n",
              "    }\n",
              "\n",
              "    .dataframe thead th {\n",
              "        text-align: right;\n",
              "    }\n",
              "</style>\n",
              "<table border=\"1\" class=\"dataframe\">\n",
              "  <thead>\n",
              "    <tr style=\"text-align: right;\">\n",
              "      <th></th>\n",
              "      <th>label</th>\n",
              "      <th>text</th>\n",
              "    </tr>\n",
              "  </thead>\n",
              "  <tbody>\n",
              "    <tr>\n",
              "      <th>0</th>\n",
              "      <td>ham</td>\n",
              "      <td>Subject: enron methanol ; meter # : 988291\\r\\n...</td>\n",
              "    </tr>\n",
              "    <tr>\n",
              "      <th>1</th>\n",
              "      <td>ham</td>\n",
              "      <td>Subject: hpl nom for january 9 , 2001\\r\\n( see...</td>\n",
              "    </tr>\n",
              "    <tr>\n",
              "      <th>2</th>\n",
              "      <td>ham</td>\n",
              "      <td>Subject: neon retreat\\r\\nho ho ho , we ' re ar...</td>\n",
              "    </tr>\n",
              "    <tr>\n",
              "      <th>3</th>\n",
              "      <td>spam</td>\n",
              "      <td>Subject: photoshop , windows , office . cheap ...</td>\n",
              "    </tr>\n",
              "    <tr>\n",
              "      <th>4</th>\n",
              "      <td>ham</td>\n",
              "      <td>Subject: re : indian springs\\r\\nthis deal is t...</td>\n",
              "    </tr>\n",
              "  </tbody>\n",
              "</table>\n",
              "</div>\n",
              "    <div class=\"colab-df-buttons\">\n",
              "\n",
              "  <div class=\"colab-df-container\">\n",
              "    <button class=\"colab-df-convert\" onclick=\"convertToInteractive('df-7be0bc82-2f22-4101-860d-70a0ad5bddab')\"\n",
              "            title=\"Convert this dataframe to an interactive table.\"\n",
              "            style=\"display:none;\">\n",
              "\n",
              "  <svg xmlns=\"http://www.w3.org/2000/svg\" height=\"24px\" viewBox=\"0 -960 960 960\">\n",
              "    <path d=\"M120-120v-720h720v720H120Zm60-500h600v-160H180v160Zm220 220h160v-160H400v160Zm0 220h160v-160H400v160ZM180-400h160v-160H180v160Zm440 0h160v-160H620v160ZM180-180h160v-160H180v160Zm440 0h160v-160H620v160Z\"/>\n",
              "  </svg>\n",
              "    </button>\n",
              "\n",
              "  <style>\n",
              "    .colab-df-container {\n",
              "      display:flex;\n",
              "      gap: 12px;\n",
              "    }\n",
              "\n",
              "    .colab-df-convert {\n",
              "      background-color: #E8F0FE;\n",
              "      border: none;\n",
              "      border-radius: 50%;\n",
              "      cursor: pointer;\n",
              "      display: none;\n",
              "      fill: #1967D2;\n",
              "      height: 32px;\n",
              "      padding: 0 0 0 0;\n",
              "      width: 32px;\n",
              "    }\n",
              "\n",
              "    .colab-df-convert:hover {\n",
              "      background-color: #E2EBFA;\n",
              "      box-shadow: 0px 1px 2px rgba(60, 64, 67, 0.3), 0px 1px 3px 1px rgba(60, 64, 67, 0.15);\n",
              "      fill: #174EA6;\n",
              "    }\n",
              "\n",
              "    .colab-df-buttons div {\n",
              "      margin-bottom: 4px;\n",
              "    }\n",
              "\n",
              "    [theme=dark] .colab-df-convert {\n",
              "      background-color: #3B4455;\n",
              "      fill: #D2E3FC;\n",
              "    }\n",
              "\n",
              "    [theme=dark] .colab-df-convert:hover {\n",
              "      background-color: #434B5C;\n",
              "      box-shadow: 0px 1px 3px 1px rgba(0, 0, 0, 0.15);\n",
              "      filter: drop-shadow(0px 1px 2px rgba(0, 0, 0, 0.3));\n",
              "      fill: #FFFFFF;\n",
              "    }\n",
              "  </style>\n",
              "\n",
              "    <script>\n",
              "      const buttonEl =\n",
              "        document.querySelector('#df-7be0bc82-2f22-4101-860d-70a0ad5bddab button.colab-df-convert');\n",
              "      buttonEl.style.display =\n",
              "        google.colab.kernel.accessAllowed ? 'block' : 'none';\n",
              "\n",
              "      async function convertToInteractive(key) {\n",
              "        const element = document.querySelector('#df-7be0bc82-2f22-4101-860d-70a0ad5bddab');\n",
              "        const dataTable =\n",
              "          await google.colab.kernel.invokeFunction('convertToInteractive',\n",
              "                                                    [key], {});\n",
              "        if (!dataTable) return;\n",
              "\n",
              "        const docLinkHtml = 'Like what you see? Visit the ' +\n",
              "          '<a target=\"_blank\" href=https://colab.research.google.com/notebooks/data_table.ipynb>data table notebook</a>'\n",
              "          + ' to learn more about interactive tables.';\n",
              "        element.innerHTML = '';\n",
              "        dataTable['output_type'] = 'display_data';\n",
              "        await google.colab.output.renderOutput(dataTable, element);\n",
              "        const docLink = document.createElement('div');\n",
              "        docLink.innerHTML = docLinkHtml;\n",
              "        element.appendChild(docLink);\n",
              "      }\n",
              "    </script>\n",
              "  </div>\n",
              "\n",
              "\n",
              "<div id=\"df-8d31ed12-4f34-4cf1-9430-111e9ff4726a\">\n",
              "  <button class=\"colab-df-quickchart\" onclick=\"quickchart('df-8d31ed12-4f34-4cf1-9430-111e9ff4726a')\"\n",
              "            title=\"Suggest charts.\"\n",
              "            style=\"display:none;\">\n",
              "\n",
              "<svg xmlns=\"http://www.w3.org/2000/svg\" height=\"24px\"viewBox=\"0 0 24 24\"\n",
              "     width=\"24px\">\n",
              "    <g>\n",
              "        <path d=\"M19 3H5c-1.1 0-2 .9-2 2v14c0 1.1.9 2 2 2h14c1.1 0 2-.9 2-2V5c0-1.1-.9-2-2-2zM9 17H7v-7h2v7zm4 0h-2V7h2v10zm4 0h-2v-4h2v4z\"/>\n",
              "    </g>\n",
              "</svg>\n",
              "  </button>\n",
              "\n",
              "<style>\n",
              "  .colab-df-quickchart {\n",
              "      --bg-color: #E8F0FE;\n",
              "      --fill-color: #1967D2;\n",
              "      --hover-bg-color: #E2EBFA;\n",
              "      --hover-fill-color: #174EA6;\n",
              "      --disabled-fill-color: #AAA;\n",
              "      --disabled-bg-color: #DDD;\n",
              "  }\n",
              "\n",
              "  [theme=dark] .colab-df-quickchart {\n",
              "      --bg-color: #3B4455;\n",
              "      --fill-color: #D2E3FC;\n",
              "      --hover-bg-color: #434B5C;\n",
              "      --hover-fill-color: #FFFFFF;\n",
              "      --disabled-bg-color: #3B4455;\n",
              "      --disabled-fill-color: #666;\n",
              "  }\n",
              "\n",
              "  .colab-df-quickchart {\n",
              "    background-color: var(--bg-color);\n",
              "    border: none;\n",
              "    border-radius: 50%;\n",
              "    cursor: pointer;\n",
              "    display: none;\n",
              "    fill: var(--fill-color);\n",
              "    height: 32px;\n",
              "    padding: 0;\n",
              "    width: 32px;\n",
              "  }\n",
              "\n",
              "  .colab-df-quickchart:hover {\n",
              "    background-color: var(--hover-bg-color);\n",
              "    box-shadow: 0 1px 2px rgba(60, 64, 67, 0.3), 0 1px 3px 1px rgba(60, 64, 67, 0.15);\n",
              "    fill: var(--button-hover-fill-color);\n",
              "  }\n",
              "\n",
              "  .colab-df-quickchart-complete:disabled,\n",
              "  .colab-df-quickchart-complete:disabled:hover {\n",
              "    background-color: var(--disabled-bg-color);\n",
              "    fill: var(--disabled-fill-color);\n",
              "    box-shadow: none;\n",
              "  }\n",
              "\n",
              "  .colab-df-spinner {\n",
              "    border: 2px solid var(--fill-color);\n",
              "    border-color: transparent;\n",
              "    border-bottom-color: var(--fill-color);\n",
              "    animation:\n",
              "      spin 1s steps(1) infinite;\n",
              "  }\n",
              "\n",
              "  @keyframes spin {\n",
              "    0% {\n",
              "      border-color: transparent;\n",
              "      border-bottom-color: var(--fill-color);\n",
              "      border-left-color: var(--fill-color);\n",
              "    }\n",
              "    20% {\n",
              "      border-color: transparent;\n",
              "      border-left-color: var(--fill-color);\n",
              "      border-top-color: var(--fill-color);\n",
              "    }\n",
              "    30% {\n",
              "      border-color: transparent;\n",
              "      border-left-color: var(--fill-color);\n",
              "      border-top-color: var(--fill-color);\n",
              "      border-right-color: var(--fill-color);\n",
              "    }\n",
              "    40% {\n",
              "      border-color: transparent;\n",
              "      border-right-color: var(--fill-color);\n",
              "      border-top-color: var(--fill-color);\n",
              "    }\n",
              "    60% {\n",
              "      border-color: transparent;\n",
              "      border-right-color: var(--fill-color);\n",
              "    }\n",
              "    80% {\n",
              "      border-color: transparent;\n",
              "      border-right-color: var(--fill-color);\n",
              "      border-bottom-color: var(--fill-color);\n",
              "    }\n",
              "    90% {\n",
              "      border-color: transparent;\n",
              "      border-bottom-color: var(--fill-color);\n",
              "    }\n",
              "  }\n",
              "</style>\n",
              "\n",
              "  <script>\n",
              "    async function quickchart(key) {\n",
              "      const quickchartButtonEl =\n",
              "        document.querySelector('#' + key + ' button');\n",
              "      quickchartButtonEl.disabled = true;  // To prevent multiple clicks.\n",
              "      quickchartButtonEl.classList.add('colab-df-spinner');\n",
              "      try {\n",
              "        const charts = await google.colab.kernel.invokeFunction(\n",
              "            'suggestCharts', [key], {});\n",
              "      } catch (error) {\n",
              "        console.error('Error during call to suggestCharts:', error);\n",
              "      }\n",
              "      quickchartButtonEl.classList.remove('colab-df-spinner');\n",
              "      quickchartButtonEl.classList.add('colab-df-quickchart-complete');\n",
              "    }\n",
              "    (() => {\n",
              "      let quickchartButtonEl =\n",
              "        document.querySelector('#df-8d31ed12-4f34-4cf1-9430-111e9ff4726a button');\n",
              "      quickchartButtonEl.style.display =\n",
              "        google.colab.kernel.accessAllowed ? 'block' : 'none';\n",
              "    })();\n",
              "  </script>\n",
              "</div>\n",
              "    </div>\n",
              "  </div>\n"
            ]
          },
          "metadata": {},
          "execution_count": 16
        }
      ]
    },
    {
      "cell_type": "code",
      "execution_count": null,
      "metadata": {
        "id": "AhYYcbhgcy51"
      },
      "outputs": [],
      "source": [
        "sms=file"
      ]
    },
    {
      "cell_type": "code",
      "execution_count": null,
      "metadata": {
        "id": "N6wyVeVZdx84"
      },
      "outputs": [],
      "source": [
        "text_combined = str(sms)"
      ]
    },
    {
      "cell_type": "code",
      "execution_count": null,
      "metadata": {
        "id": "Pa4I0wvZd-Mj"
      },
      "outputs": [],
      "source": [
        "doc = nlp(text_combined)"
      ]
    },
    {
      "cell_type": "code",
      "execution_count": null,
      "metadata": {
        "colab": {
          "base_uri": "https://localhost:8080/"
        },
        "id": "w9ZVbgrEfOUn",
        "outputId": "6ca6ca40-195b-431a-ff36-23e31ef41685"
      },
      "outputs": [
        {
          "output_type": "stream",
          "name": "stdout",
          "text": [
            "     \n",
            "label\n",
            "                                              \n",
            "text\n",
            "\n",
            "\n",
            "0\n",
            "     \n",
            "ham\n",
            " \n",
            "Subject\n",
            ":\n",
            "enron\n",
            "methanol\n",
            ";\n",
            "meter\n",
            "#\n",
            ":\n",
            "988291\\r\\n\n",
            "...\n",
            "\n",
            "\n",
            "1\n",
            "     \n",
            "ham\n",
            " \n",
            "Subject\n",
            ":\n",
            "hpl\n",
            "nom\n",
            "for\n",
            "january\n",
            "9\n",
            ",\n",
            "2001\\r\\n\n",
            "(\n",
            "see\n",
            "...\n",
            "\n",
            "\n",
            "2\n",
            "     \n",
            "ham\n",
            " \n",
            "Subject\n",
            ":\n",
            "neon\n",
            "retreat\\r\\nho\n",
            "ho\n",
            "ho\n",
            ",\n",
            "we\n",
            "'\n",
            "re\n",
            "ar\n",
            "...\n",
            "\n",
            "\n",
            "3\n",
            "    \n",
            "spam\n",
            " \n",
            "Subject\n",
            ":\n",
            "photoshop\n",
            ",\n",
            "windows\n",
            ",\n",
            "office\n",
            ".\n",
            "cheap\n",
            "...\n",
            "\n",
            "\n",
            "4\n",
            "     \n",
            "ham\n",
            " \n",
            "Subject\n",
            ":\n",
            "re\n",
            ":\n",
            "indian\n",
            "springs\\r\\nthis\n",
            "deal\n",
            "is\n",
            "t\n",
            "...\n",
            "\n",
            "\n",
            "...\n",
            "   \n",
            "...\n",
            "                                               \n",
            "...\n",
            "\n",
            "\n",
            "5166\n",
            "  \n",
            "ham\n",
            " \n",
            "Subject\n",
            ":\n",
            "put\n",
            "the\n",
            "10\n",
            "on\n",
            "the\n",
            "ft\\r\\nthe\n",
            "transport\n",
            "...\n",
            "\n",
            "\n",
            "5167\n",
            "  \n",
            "ham\n",
            " \n",
            "Subject\n",
            ":\n",
            "3\n",
            "/\n",
            "4\n",
            "/\n",
            "2000\n",
            "and\n",
            "following\n",
            "noms\\r\\nhp\n",
            "...\n",
            "\n",
            "\n",
            "5168\n",
            "  \n",
            "ham\n",
            " \n",
            "Subject\n",
            ":\n",
            "calpine\n",
            "daily\n",
            "gas\n",
            "nomination\\r\\n>\\r\\n\n",
            "...\n",
            "\n",
            "\n",
            "5169\n",
            "  \n",
            "ham\n",
            " \n",
            "Subject\n",
            ":\n",
            "industrial\n",
            "worksheets\n",
            "for\n",
            "august\n",
            "2000\n",
            "...\n",
            "\n",
            "\n",
            "5170\n",
            " \n",
            "spam\n",
            " \n",
            "Subject\n",
            ":\n",
            "important\n",
            "online\n",
            "banking\n",
            "alert\\r\\ndea\n",
            "...\n",
            "\n",
            "\n",
            "\n",
            "[\n",
            "5171\n",
            "rows\n",
            "x\n",
            "2\n",
            "columns\n",
            "]\n"
          ]
        }
      ],
      "source": [
        "for token in doc:\n",
        "    print(token)"
      ]
    },
    {
      "cell_type": "code",
      "source": [
        "for token in doc:\n",
        "    print(token.lemma_)"
      ],
      "metadata": {
        "colab": {
          "base_uri": "https://localhost:8080/"
        },
        "id": "3_e7fqgrEH8c",
        "outputId": "83b9578b-ee48-4997-b451-e4f01d38e415"
      },
      "execution_count": null,
      "outputs": [
        {
          "output_type": "stream",
          "name": "stdout",
          "text": [
            "     \n",
            "label\n",
            "                                              \n",
            "text\n",
            "\n",
            "\n",
            "0\n",
            "     \n",
            "ham\n",
            " \n",
            "Subject\n",
            ":\n",
            "enron\n",
            "methanol\n",
            ";\n",
            "meter\n",
            "#\n",
            ":\n",
            "988291\\r\\n\n",
            "...\n",
            "\n",
            "\n",
            "1\n",
            "     \n",
            "ham\n",
            " \n",
            "subject\n",
            ":\n",
            "hpl\n",
            "nom\n",
            "for\n",
            "january\n",
            "9\n",
            ",\n",
            "2001\\r\\n\n",
            "(\n",
            "see\n",
            "...\n",
            "\n",
            "\n",
            "2\n",
            "     \n",
            "ham\n",
            " \n",
            "Subject\n",
            ":\n",
            "neon\n",
            "retreat\\r\\nho\n",
            "ho\n",
            "ho\n",
            ",\n",
            "we\n",
            "'\n",
            "re\n",
            "ar\n",
            "...\n",
            "\n",
            "\n",
            "3\n",
            "    \n",
            "spam\n",
            " \n",
            "Subject\n",
            ":\n",
            "photoshop\n",
            ",\n",
            "windows\n",
            ",\n",
            "office\n",
            ".\n",
            "cheap\n",
            "...\n",
            "\n",
            "\n",
            "4\n",
            "     \n",
            "ham\n",
            " \n",
            "subject\n",
            ":\n",
            "re\n",
            ":\n",
            "indian\n",
            "springs\\r\\nthis\n",
            "deal\n",
            "be\n",
            "t\n",
            "...\n",
            "\n",
            "\n",
            "...\n",
            "   \n",
            "...\n",
            "                                               \n",
            "...\n",
            "\n",
            "\n",
            "5166\n",
            "  \n",
            "ham\n",
            " \n",
            "subject\n",
            ":\n",
            "put\n",
            "the\n",
            "10\n",
            "on\n",
            "the\n",
            "ft\\r\\nthe\n",
            "transport\n",
            "...\n",
            "\n",
            "\n",
            "5167\n",
            "  \n",
            "ham\n",
            " \n",
            "subject\n",
            ":\n",
            "3\n",
            "/\n",
            "4\n",
            "/\n",
            "2000\n",
            "and\n",
            "follow\n",
            "noms\\r\\nhp\n",
            "...\n",
            "\n",
            "\n",
            "5168\n",
            "  \n",
            "ham\n",
            " \n",
            "Subject\n",
            ":\n",
            "calpine\n",
            "daily\n",
            "gas\n",
            "nomination\\r\\n>\\r\\n\n",
            "...\n",
            "\n",
            "\n",
            "5169\n",
            "  \n",
            "ham\n",
            " \n",
            "subject\n",
            ":\n",
            "industrial\n",
            "worksheet\n",
            "for\n",
            "august\n",
            "2000\n",
            "...\n",
            "\n",
            "\n",
            "5170\n",
            " \n",
            "spam\n",
            " \n",
            "subject\n",
            ":\n",
            "important\n",
            "online\n",
            "banking\n",
            "alert\\r\\ndea\n",
            "...\n",
            "\n",
            "\n",
            "\n",
            "[\n",
            "5171\n",
            "row\n",
            "x\n",
            "2\n",
            "column\n",
            "]\n"
          ]
        }
      ]
    },
    {
      "cell_type": "code",
      "source": [
        "for token in doc:\n",
        "    print(token.text,token.pos_)"
      ],
      "metadata": {
        "colab": {
          "base_uri": "https://localhost:8080/"
        },
        "id": "1SwANwkBFVm1",
        "outputId": "1bd0c789-4cdb-4385-8818-ac2f646b1f20"
      },
      "execution_count": null,
      "outputs": [
        {
          "output_type": "stream",
          "name": "stdout",
          "text": [
            "      SPACE\n",
            "label NOUN\n",
            "                                               SPACE\n",
            "text NOUN\n",
            "\n",
            " SPACE\n",
            "0 NUM\n",
            "      SPACE\n",
            "ham PROPN\n",
            "  SPACE\n",
            "Subject PROPN\n",
            ": PUNCT\n",
            "enron PROPN\n",
            "methanol NOUN\n",
            "; PUNCT\n",
            "meter NOUN\n",
            "# NOUN\n",
            ": PUNCT\n",
            "988291\\r\\n NUM\n",
            "... PUNCT\n",
            "\n",
            " SPACE\n",
            "1 NUM\n",
            "      SPACE\n",
            "ham NOUN\n",
            "  SPACE\n",
            "Subject NOUN\n",
            ": PUNCT\n",
            "hpl PROPN\n",
            "nom PROPN\n",
            "for ADP\n",
            "january PROPN\n",
            "9 NUM\n",
            ", PUNCT\n",
            "2001\\r\\n PROPN\n",
            "( PUNCT\n",
            "see VERB\n",
            "... PUNCT\n",
            "\n",
            " SPACE\n",
            "2 NUM\n",
            "      SPACE\n",
            "ham NOUN\n",
            "  SPACE\n",
            "Subject PROPN\n",
            ": PUNCT\n",
            "neon NOUN\n",
            "retreat\\r\\nho X\n",
            "ho PROPN\n",
            "ho PROPN\n",
            ", PUNCT\n",
            "we PRON\n",
            "' PUNCT\n",
            "re NOUN\n",
            "ar NOUN\n",
            "... PUNCT\n",
            "\n",
            " SPACE\n",
            "3 NUM\n",
            "     SPACE\n",
            "spam NOUN\n",
            "  SPACE\n",
            "Subject PROPN\n",
            ": PUNCT\n",
            "photoshop NOUN\n",
            ", PUNCT\n",
            "windows PROPN\n",
            ", PUNCT\n",
            "office NOUN\n",
            ". PUNCT\n",
            "cheap ADJ\n",
            "... PUNCT\n",
            "\n",
            " SPACE\n",
            "4 NUM\n",
            "      SPACE\n",
            "ham NOUN\n",
            "  SPACE\n",
            "Subject NOUN\n",
            ": PUNCT\n",
            "re ADP\n",
            ": PUNCT\n",
            "indian ADJ\n",
            "springs\\r\\nthis PROPN\n",
            "deal NOUN\n",
            "is AUX\n",
            "t NOUN\n",
            "... PUNCT\n",
            "\n",
            " SPACE\n",
            "... PUNCT\n",
            "    SPACE\n",
            "... PUNCT\n",
            "                                                SPACE\n",
            "... PUNCT\n",
            "\n",
            " SPACE\n",
            "5166 NUM\n",
            "   SPACE\n",
            "ham NOUN\n",
            "  SPACE\n",
            "Subject NOUN\n",
            ": PUNCT\n",
            "put VERB\n",
            "the DET\n",
            "10 NUM\n",
            "on ADP\n",
            "the DET\n",
            "ft\\r\\nthe NOUN\n",
            "transport NOUN\n",
            "... PUNCT\n",
            "\n",
            " SPACE\n",
            "5167 NUM\n",
            "   SPACE\n",
            "ham NOUN\n",
            "  SPACE\n",
            "Subject NOUN\n",
            ": PUNCT\n",
            "3 NUM\n",
            "/ SYM\n",
            "4 NUM\n",
            "/ SYM\n",
            "2000 NUM\n",
            "and CCONJ\n",
            "following VERB\n",
            "noms\\r\\nhp PROPN\n",
            "... PUNCT\n",
            "\n",
            " SPACE\n",
            "5168 NUM\n",
            "   SPACE\n",
            "ham PROPN\n",
            "  SPACE\n",
            "Subject PROPN\n",
            ": PUNCT\n",
            "calpine NOUN\n",
            "daily ADJ\n",
            "gas NOUN\n",
            "nomination\\r\\n>\\r\\n PROPN\n",
            "... PUNCT\n",
            "\n",
            " SPACE\n",
            "5169 NUM\n",
            "   SPACE\n",
            "ham PROPN\n",
            "  SPACE\n",
            "Subject NOUN\n",
            ": PUNCT\n",
            "industrial ADJ\n",
            "worksheets NOUN\n",
            "for ADP\n",
            "august PROPN\n",
            "2000 NUM\n",
            "... PUNCT\n",
            "\n",
            " SPACE\n",
            "5170 NUM\n",
            "  SPACE\n",
            "spam NOUN\n",
            "  SPACE\n",
            "Subject NOUN\n",
            ": PUNCT\n",
            "important ADJ\n",
            "online ADJ\n",
            "banking NOUN\n",
            "alert\\r\\ndea PROPN\n",
            "... PUNCT\n",
            "\n",
            "\n",
            " SPACE\n",
            "[ X\n",
            "5171 NUM\n",
            "rows NOUN\n",
            "x SYM\n",
            "2 NUM\n",
            "columns NOUN\n",
            "] PUNCT\n"
          ]
        }
      ]
    },
    {
      "cell_type": "code",
      "execution_count": null,
      "metadata": {
        "colab": {
          "base_uri": "https://localhost:8080/"
        },
        "id": "6YKvX2_QgHpJ",
        "outputId": "3c222702-0e76-4f87-d057-4d2ddef14997"
      },
      "outputs": [
        {
          "output_type": "execute_result",
          "data": {
            "text/plain": [
              "[     label                                               text\n",
              " 0      ham  ,\n",
              " Subject: enron methanol ; meter # : 988291\\r\\n...\n",
              " 1      ham  Subject: hpl nom for january 9 , 2001\\r\\n( see...\n",
              " 2      ham  Subject: neon retreat\\r\\nho ho ho , we ' re ar...\n",
              " 3     spam  Subject: photoshop , windows , office .,\n",
              " cheap ...\n",
              " 4      ham  Subject: re : indian springs\\r\\nthis deal is t...\n",
              " ...    ...                                                ...\n",
              " 5166   ham  Subject: put the 10 on the ft\\r\\nthe transport...\n",
              " 5167   ham  Subject: 3 / 4 / 2000 and following noms\\r\\nhp...\n",
              " 5168   ham  Subject: calpine daily gas nomination\\r\\n>\\r\\n...\n",
              " 5169   ham  Subject: industrial worksheets for august 2000...\n",
              " 5170  spam  Subject: important online banking alert\\r\\ndea...\n",
              " ,\n",
              " [5171 rows x 2 columns]]"
            ]
          },
          "metadata": {},
          "execution_count": 49
        }
      ],
      "source": [
        "list(doc.sents)"
      ]
    },
    {
      "cell_type": "code",
      "source": [],
      "metadata": {
        "id": "nogjgkMhBzvA"
      },
      "execution_count": null,
      "outputs": []
    },
    {
      "cell_type": "code",
      "execution_count": null,
      "metadata": {
        "colab": {
          "base_uri": "https://localhost:8080/"
        },
        "id": "iO3mTemOgt3q",
        "outputId": "43dbd82c-ece6-4cef-9a8e-7aec2a57b7f0"
      },
      "outputs": [
        {
          "output_type": "stream",
          "name": "stdout",
          "text": [
            "0      ham   QUANTITY\n",
            "Subject LOC\n",
            "enron ORG\n",
            "# CARDINAL\n",
            "988291\\r\\n CARDINAL\n",
            "1      ham   QUANTITY\n",
            "Subject GPE\n",
            "january 9 DATE\n",
            "2001\\r\\n CARDINAL\n",
            "2      ham   QUANTITY\n",
            "Subject GPE\n",
            "ho ho PERSON\n",
            "3 CARDINAL\n",
            "Subject LOC\n",
            "4      ham QUANTITY\n",
            "indian NORP\n",
            "5166 DATE\n",
            "10 CARDINAL\n",
            "5167 DATE\n",
            "Subject LOC\n",
            "3 / 4 / 2000 DATE\n",
            "5168 DATE\n",
            "Subject GPE\n",
            "daily DATE\n",
            "nomination\\r\\n>\\r\\n LANGUAGE\n",
            "5169 DATE\n",
            "august 2000 DATE\n",
            "5170 DATE\n",
            "2 CARDINAL\n"
          ]
        }
      ],
      "source": [
        "for ent in doc.ents:\n",
        "    print(ent.text,ent.label_)"
      ]
    },
    {
      "cell_type": "code",
      "source": [
        "commaremove= \" \".join(token.text for token in doc if token.text != \",\")\n",
        "\n",
        "print(commaremove)"
      ],
      "metadata": {
        "colab": {
          "base_uri": "https://localhost:8080/"
        },
        "id": "puBvANKpGjPy",
        "outputId": "40e8dff2-b26d-410f-e8a2-6c69f476b16e"
      },
      "execution_count": null,
      "outputs": [
        {
          "output_type": "stream",
          "name": "stdout",
          "text": [
            "      label                                                text \n",
            " 0       ham   Subject : enron methanol ; meter # : 988291\\r\\n ... \n",
            " 1       ham   Subject : hpl nom for january 9 2001\\r\\n ( see ... \n",
            " 2       ham   Subject : neon retreat\\r\\nho ho ho we ' re ar ... \n",
            " 3      spam   Subject : photoshop windows office . cheap ... \n",
            " 4       ham   Subject : re : indian springs\\r\\nthis deal is t ... \n",
            " ...     ...                                                 ... \n",
            " 5166    ham   Subject : put the 10 on the ft\\r\\nthe transport ... \n",
            " 5167    ham   Subject : 3 / 4 / 2000 and following noms\\r\\nhp ... \n",
            " 5168    ham   Subject : calpine daily gas nomination\\r\\n>\\r\\n ... \n",
            " 5169    ham   Subject : industrial worksheets for august 2000 ... \n",
            " 5170   spam   Subject : important online banking alert\\r\\ndea ... \n",
            "\n",
            " [ 5171 rows x 2 columns ]\n"
          ]
        }
      ]
    },
    {
      "cell_type": "code",
      "source": [
        "punctremove = \" \".join(token.text for token in doc if not token.is_punct)\n",
        "\n",
        "print(punctremove)"
      ],
      "metadata": {
        "colab": {
          "base_uri": "https://localhost:8080/"
        },
        "id": "xBrDZQPbG-9V",
        "outputId": "74630d3b-809c-4afc-d72c-35d0dcf544b1"
      },
      "execution_count": null,
      "outputs": [
        {
          "output_type": "stream",
          "name": "stdout",
          "text": [
            "      label                                                text \n",
            " 0       ham   Subject enron methanol meter 988291\\r\\n \n",
            " 1       ham   Subject hpl nom for january 9 2001\\r\\n see \n",
            " 2       ham   Subject neon retreat\\r\\nho ho ho we re ar \n",
            " 3      spam   Subject photoshop windows office cheap \n",
            " 4       ham   Subject re indian springs\\r\\nthis deal is t \n",
            "                                                     \n",
            " 5166    ham   Subject put the 10 on the ft\\r\\nthe transport \n",
            " 5167    ham   Subject 3 4 2000 and following noms\\r\\nhp \n",
            " 5168    ham   Subject calpine daily gas nomination\\r\\n>\\r\\n \n",
            " 5169    ham   Subject industrial worksheets for august 2000 \n",
            " 5170   spam   Subject important online banking alert\\r\\ndea \n",
            "\n",
            " 5171 rows x 2 columns\n"
          ]
        }
      ]
    },
    {
      "cell_type": "code",
      "source": [
        "slashremove= \" \".join(token.text for token in doc if token.text != \" \\\\\")\n",
        "\n",
        "print(slashremove)"
      ],
      "metadata": {
        "colab": {
          "base_uri": "https://localhost:8080/"
        },
        "id": "OcJk-rLaHIJh",
        "outputId": "087ffb48-10b0-4015-a140-64b1bf32ca55"
      },
      "execution_count": null,
      "outputs": [
        {
          "output_type": "stream",
          "name": "stdout",
          "text": [
            "      label                                                text \n",
            " 0       ham   Subject : enron methanol ; meter # : 988291\\r\\n ... \n",
            " 1       ham   Subject : hpl nom for january 9 , 2001\\r\\n ( see ... \n",
            " 2       ham   Subject : neon retreat\\r\\nho ho ho , we ' re ar ... \n",
            " 3      spam   Subject : photoshop , windows , office . cheap ... \n",
            " 4       ham   Subject : re : indian springs\\r\\nthis deal is t ... \n",
            " ...     ...                                                 ... \n",
            " 5166    ham   Subject : put the 10 on the ft\\r\\nthe transport ... \n",
            " 5167    ham   Subject : 3 / 4 / 2000 and following noms\\r\\nhp ... \n",
            " 5168    ham   Subject : calpine daily gas nomination\\r\\n>\\r\\n ... \n",
            " 5169    ham   Subject : industrial worksheets for august 2000 ... \n",
            " 5170   spam   Subject : important online banking alert\\r\\ndea ... \n",
            "\n",
            " [ 5171 rows x 2 columns ]\n"
          ]
        }
      ]
    },
    {
      "cell_type": "markdown",
      "source": [
        "**USING NLTK**"
      ],
      "metadata": {
        "id": "3Uh2lWRMIstw"
      }
    },
    {
      "cell_type": "code",
      "source": [
        "import nltk\n",
        "from nltk.tokenize import word_tokenize\n",
        "from nltk.corpus import stopwords\n",
        "from nltk.stem import PorterStemmer"
      ],
      "metadata": {
        "id": "Kd90dTwkKl6U"
      },
      "execution_count": null,
      "outputs": []
    },
    {
      "cell_type": "code",
      "source": [
        "nltk.download('stopwords')\n",
        "stop_words = set(stopwords.words(\"english\"))"
      ],
      "metadata": {
        "colab": {
          "base_uri": "https://localhost:8080/"
        },
        "id": "LJXFRHe9Kuxp",
        "outputId": "a7e3eda6-124d-4d7d-f656-9c4a6b3ddff1"
      },
      "execution_count": null,
      "outputs": [
        {
          "output_type": "stream",
          "name": "stderr",
          "text": [
            "[nltk_data] Downloading package stopwords to /root/nltk_data...\n",
            "[nltk_data]   Unzipping corpora/stopwords.zip.\n"
          ]
        }
      ]
    },
    {
      "cell_type": "code",
      "source": [
        "smss = file\n",
        "text__combined = str(smss)"
      ],
      "metadata": {
        "id": "H7ZgzkXAKwgv"
      },
      "execution_count": null,
      "outputs": []
    },
    {
      "cell_type": "code",
      "source": [
        "tokens = word_tokenize(text__combined)\n",
        "print(tokens)"
      ],
      "metadata": {
        "colab": {
          "base_uri": "https://localhost:8080/"
        },
        "id": "GRYsAeBFK2Zw",
        "outputId": "3bceb846-8a5a-428f-80ee-c104b25a25c1"
      },
      "execution_count": null,
      "outputs": [
        {
          "output_type": "stream",
          "name": "stdout",
          "text": [
            "['label', 'text', '0', 'ham', 'Subject', ':', 'enron', 'methanol', ';', 'meter', '#', ':', '988291\\\\r\\\\n', '...', '1', 'ham', 'Subject', ':', 'hpl', 'nom', 'for', 'january', '9', ',', '2001\\\\r\\\\n', '(', 'see', '...', '2', 'ham', 'Subject', ':', 'neon', 'retreat\\\\r\\\\nho', 'ho', 'ho', ',', 'we', \"'\", 're', 'ar', '...', '3', 'spam', 'Subject', ':', 'photoshop', ',', 'windows', ',', 'office', '.', 'cheap', '...', '4', 'ham', 'Subject', ':', 're', ':', 'indian', 'springs\\\\r\\\\nthis', 'deal', 'is', 't', '...', '...', '...', '...', '5166', 'ham', 'Subject', ':', 'put', 'the', '10', 'on', 'the', 'ft\\\\r\\\\nthe', 'transport', '...', '5167', 'ham', 'Subject', ':', '3', '/', '4', '/', '2000', 'and', 'following', 'noms\\\\r\\\\nhp', '...', '5168', 'ham', 'Subject', ':', 'calpine', 'daily', 'gas', 'nomination\\\\r\\\\n', '>', '\\\\r\\\\n', '...', '5169', 'ham', 'Subject', ':', 'industrial', 'worksheets', 'for', 'august', '2000', '...', '5170', 'spam', 'Subject', ':', 'important', 'online', 'banking', 'alert\\\\r\\\\ndea', '...', '[', '5171', 'rows', 'x', '2', 'columns', ']']\n"
          ]
        }
      ]
    },
    {
      "cell_type": "code",
      "source": [
        "filtered_words = [word for word in tokens if word.lower() not in stop_words]\n",
        "print(filtered_words)"
      ],
      "metadata": {
        "colab": {
          "base_uri": "https://localhost:8080/"
        },
        "id": "9DLU_ACPLP2F",
        "outputId": "a58c3e75-8dd9-4903-9671-454eda001288"
      },
      "execution_count": null,
      "outputs": [
        {
          "output_type": "stream",
          "name": "stdout",
          "text": [
            "['label', 'text', '0', 'ham', 'Subject', ':', 'enron', 'methanol', ';', 'meter', '#', ':', '988291\\\\r\\\\n', '...', '1', 'ham', 'Subject', ':', 'hpl', 'nom', 'january', '9', ',', '2001\\\\r\\\\n', '(', 'see', '...', '2', 'ham', 'Subject', ':', 'neon', 'retreat\\\\r\\\\nho', 'ho', 'ho', ',', \"'\", 'ar', '...', '3', 'spam', 'Subject', ':', 'photoshop', ',', 'windows', ',', 'office', '.', 'cheap', '...', '4', 'ham', 'Subject', ':', ':', 'indian', 'springs\\\\r\\\\nthis', 'deal', '...', '...', '...', '...', '5166', 'ham', 'Subject', ':', 'put', '10', 'ft\\\\r\\\\nthe', 'transport', '...', '5167', 'ham', 'Subject', ':', '3', '/', '4', '/', '2000', 'following', 'noms\\\\r\\\\nhp', '...', '5168', 'ham', 'Subject', ':', 'calpine', 'daily', 'gas', 'nomination\\\\r\\\\n', '>', '\\\\r\\\\n', '...', '5169', 'ham', 'Subject', ':', 'industrial', 'worksheets', 'august', '2000', '...', '5170', 'spam', 'Subject', ':', 'important', 'online', 'banking', 'alert\\\\r\\\\ndea', '...', '[', '5171', 'rows', 'x', '2', 'columns', ']']\n"
          ]
        }
      ]
    },
    {
      "cell_type": "code",
      "source": [
        "sentences = sent_tokenize(text__combined)\n",
        "print(sentences)"
      ],
      "metadata": {
        "colab": {
          "base_uri": "https://localhost:8080/"
        },
        "id": "bAUgLsMfLiEp",
        "outputId": "41a10605-26ce-4c31-a394-4d29599dc9e8"
      },
      "execution_count": null,
      "outputs": [
        {
          "output_type": "stream",
          "name": "stdout",
          "text": [
            "[\"     label                                               text\\n0      ham  Subject: enron methanol ; meter # : 988291\\\\r\\\\n...\\n1      ham  Subject: hpl nom for january 9 , 2001\\\\r\\\\n( see...\\n2      ham  Subject: neon retreat\\\\r\\\\nho ho ho , we ' re ar...\\n3     spam  Subject: photoshop , windows , office .\", 'cheap ...\\n4      ham  Subject: re : indian springs\\\\r\\\\nthis deal is t...\\n...    ...                                                ...\\n5166   ham  Subject: put the 10 on the ft\\\\r\\\\nthe transport...\\n5167   ham  Subject: 3 / 4 / 2000 and following noms\\\\r\\\\nhp...\\n5168   ham  Subject: calpine daily gas nomination\\\\r\\\\n>\\\\r\\\\n...\\n5169   ham  Subject: industrial worksheets for august 2000...\\n5170  spam  Subject: important online banking alert\\\\r\\\\ndea...\\n\\n[5171 rows x 2 columns]']\n"
          ]
        }
      ]
    },
    {
      "cell_type": "code",
      "source": [
        "stemmer = PorterStemmer()\n",
        "stemmed_words = [stemmer.stem(word) for word in tokens]\n",
        "print (stemmed_words)"
      ],
      "metadata": {
        "colab": {
          "base_uri": "https://localhost:8080/"
        },
        "id": "nN7MiuTWMDn1",
        "outputId": "31649ec4-d38e-44d2-b489-9921168e203b"
      },
      "execution_count": null,
      "outputs": [
        {
          "output_type": "stream",
          "name": "stdout",
          "text": [
            "['label', 'text', '0', 'ham', 'subject', ':', 'enron', 'methanol', ';', 'meter', '#', ':', '988291\\\\r\\\\n', '...', '1', 'ham', 'subject', ':', 'hpl', 'nom', 'for', 'januari', '9', ',', '2001\\\\r\\\\n', '(', 'see', '...', '2', 'ham', 'subject', ':', 'neon', 'retreat\\\\r\\\\nho', 'ho', 'ho', ',', 'we', \"'\", 're', 'ar', '...', '3', 'spam', 'subject', ':', 'photoshop', ',', 'window', ',', 'offic', '.', 'cheap', '...', '4', 'ham', 'subject', ':', 're', ':', 'indian', 'springs\\\\r\\\\nthi', 'deal', 'is', 't', '...', '...', '...', '...', '5166', 'ham', 'subject', ':', 'put', 'the', '10', 'on', 'the', 'ft\\\\r\\\\nthe', 'transport', '...', '5167', 'ham', 'subject', ':', '3', '/', '4', '/', '2000', 'and', 'follow', 'noms\\\\r\\\\nhp', '...', '5168', 'ham', 'subject', ':', 'calpin', 'daili', 'ga', 'nomination\\\\r\\\\n', '>', '\\\\r\\\\n', '...', '5169', 'ham', 'subject', ':', 'industri', 'worksheet', 'for', 'august', '2000', '...', '5170', 'spam', 'subject', ':', 'import', 'onlin', 'bank', 'alert\\\\r\\\\ndea', '...', '[', '5171', 'row', 'x', '2', 'column', ']']\n"
          ]
        }
      ]
    },
    {
      "cell_type": "code",
      "source": [
        "import string\n",
        "cleaned_text = text__combined.translate(str.maketrans(\"\", \"\", string.punctuation))"
      ],
      "metadata": {
        "id": "IwJGJ-ObMbFR"
      },
      "execution_count": null,
      "outputs": []
    },
    {
      "cell_type": "code",
      "source": [
        "print (cleaned_text)"
      ],
      "metadata": {
        "colab": {
          "base_uri": "https://localhost:8080/"
        },
        "id": "ZY_6zBpdNCN7",
        "outputId": "cf2e9d5c-b24c-41d2-a2fc-721d23eaae2e"
      },
      "execution_count": null,
      "outputs": [
        {
          "output_type": "stream",
          "name": "stdout",
          "text": [
            "     label                                               text\n",
            "0      ham  Subject enron methanol  meter   988291rn\n",
            "1      ham  Subject hpl nom for january 9  2001rn see\n",
            "2      ham  Subject neon retreatrnho ho ho  we  re ar\n",
            "3     spam  Subject photoshop  windows  office  cheap \n",
            "4      ham  Subject re  indian springsrnthis deal is t\n",
            "                                                    \n",
            "5166   ham  Subject put the 10 on the ftrnthe transport\n",
            "5167   ham  Subject 3  4  2000 and following nomsrnhp\n",
            "5168   ham  Subject calpine daily gas nominationrnrn\n",
            "5169   ham  Subject industrial worksheets for august 2000\n",
            "5170  spam  Subject important online banking alertrndea\n",
            "\n",
            "5171 rows x 2 columns\n"
          ]
        }
      ]
    }
  ],
  "metadata": {
    "colab": {
      "provenance": []
    },
    "kernelspec": {
      "display_name": "Python 3",
      "name": "python3"
    },
    "language_info": {
      "name": "python"
    }
  },
  "nbformat": 4,
  "nbformat_minor": 0
}